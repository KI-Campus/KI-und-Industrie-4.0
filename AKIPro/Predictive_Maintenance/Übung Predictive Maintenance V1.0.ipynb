{
 "cells": [
  {
   "cell_type": "markdown",
   "id": "8fbff774",
   "metadata": {},
   "source": [
    "## Übung Predictive Maintenance - Anwendungsfall Kugellager"
   ]
  },
  {
   "cell_type": "markdown",
   "id": "0b4535cf",
   "metadata": {},
   "source": [
    "### Einleitung"
   ]
  },
  {
   "cell_type": "markdown",
   "id": "ed5753ed",
   "metadata": {},
   "source": [
    "Eine Einführung in den behandelten Anwendungsfall und die verwendeten Daten wird im Kurselement \"Anwendungsfall Kugellager\" gegeben. Sie können gerne noch einmal zu diesem Kurselement zurückkehren bevor Sie mit der praktischen Übung beginnen.   "
   ]
  },
  {
   "cell_type": "markdown",
   "id": "8bda29bc",
   "metadata": {},
   "source": [
    "### Schritt 1: Herunterladen der Daten"
   ]
  },
  {
   "cell_type": "markdown",
   "id": "6ed3592d",
   "metadata": {},
   "source": [
    "#### Aufgabe 1.1\n",
    "Als erstes muss der für die Übung verwendete Datensatz heruntergeladen werden. \n",
    "Gehen Sie dazu auf das <a href=\"https://ti.arc.nasa.gov/tech/dash/groups/pcoe/prognostic-data-repository/\">Prognostics Data Repository</a> der NASA. Hier findet sich eine Sammlung von Datensätzen für Predictive Maintenance Anwendungen. Scrollen Sie nach unten bis zum Datensatz \"Bearing Data Set\" und klicken Sie auf \"Download Bearing Data Set\". Speichern Sie die heruntergeladene zip-Datei mit dem Namen IMS in den Ordner DATA.\n",
    "\n",
    "Hinweis: Der Download des Datensatzes kann ein paar Minuten dauern."
   ]
  },
  {
   "cell_type": "markdown",
   "id": "b411b826",
   "metadata": {},
   "source": [
    "### Schritt 2: Entpacken der Daten"
   ]
  },
  {
   "cell_type": "markdown",
   "id": "bc5bb9a9",
   "metadata": {},
   "source": [
    "#### Aufgabe 2.1\n",
    "Entpacken Sie die heruntergeladene zip-Datei mit dem Namen IMS (z.B. mit 7-Zip). Machen Sie dazu einen Rechtsklick auf die zip-Datei, wählen Sie 7-Zip und dann \"Entpacken nach \"IMS\\\" aus. Der neu erstellte Ordner enthält eine ReadMe-Datei mit Informationen zum Datensatz sowie drei zip-Dateien mit den Namen \"1st_test\", \"2nd_test\" und \"3rd_test\". Für die Übung wird nur der kleinste Datensatz \"2nd_test\" verwendet. Entpacken Sie dazu die zip-Datei \"2nd_test\" wie zuvor die zip-Datei IMS."
   ]
  },
  {
   "cell_type": "markdown",
   "id": "042d2cce",
   "metadata": {},
   "source": [
    "### Schritt 3: Exploration der Daten"
   ]
  },
  {
   "cell_type": "code",
   "execution_count": null,
   "metadata": {},
   "outputs": [],
   "source": [
    "import numpy as np\n",
    "import pandas as pd\n",
    "import matplotlib.pyplot as plt\n",
    "\n",
    "import os\n",
    "\n",
    "from scipy import signal\n",
    "\n",
    "from sklearn.neighbors import KNeighborsClassifier\n",
    "\n",
    "import tensorflow as tf\n",
    "from tensorflow import keras"
   ]
  },
  {
   "cell_type": "code",
   "execution_count": null,
   "metadata": {},
   "outputs": [],
   "source": [
    "# Relevante Metadaten \n",
    "ncol = 4\n",
    "fs = 20480 # Abtastrate der Sensoren in Hz"
   ]
  },
  {
   "cell_type": "markdown",
   "id": "e965680e",
   "metadata": {},
   "source": [
    "#### Aufgabe 3.1\n",
    "\n",
    "Der Datensatz besteht aus 984 Dateien, wobei jede dieser Dateien die Messungen aller vier \n",
    "Beschleunigungssensoren für eine Zeitdauer von einer Sekunde beinhaltet. Der Datensatz deckt die ganze Lebensdauer der Kugellager ab, d.h. am Anfang sind die Kugellager neu und es werden Messungen gemacht bis eines der vier Kugellager kaputt geht. Machen Sie sich mit dem Datensatz vertraut und beantworten Sie die folgenden Fragen, indem Sie den gegebenen Code ausführen. Wie viele Spalten und Zeilen beinhaltet eine Datei? Was bedeuten diese?"
   ]
  },
  {
   "cell_type": "code",
   "execution_count": null,
   "metadata": {},
   "outputs": [],
   "source": [
    "# Einlesen der Daten aus der ersten Datei\n",
    "\n",
    "path = \"DATA/IMS/2nd_test/\" # Dateipfad \n",
    "first_file = '2004.02.12.10.32.39' # Dateiname\n",
    "\n",
    "df_first = pd.read_csv(path + first_file, sep='\\t', header=None)\n",
    "\n",
    "\n",
    "df_first.info() # Anzeigen von Informationen über die eingelesenen Daten\n",
    "df_first.head(5) # Anzeigen der ersten 5 Zeilen des Datensatzes"
   ]
  },
  {
   "cell_type": "markdown",
   "id": "719c777b",
   "metadata": {},
   "source": [
    "#### Lösung\n",
    "Indem Sie die nächste Zeile ausführen, können Sie die Lösung der Aufgabe laden. "
   ]
  },
  {
   "cell_type": "code",
   "execution_count": null,
   "metadata": {},
   "outputs": [],
   "source": [
    "%run Loesung/Loesung_3_1.py"
   ]
  },
  {
   "cell_type": "markdown",
   "id": "a32d7320",
   "metadata": {},
   "source": [
    "#### Aufgabe 3.2\n",
    "Was bedeutet der Dateiname?"
   ]
  },
  {
   "cell_type": "code",
   "execution_count": null,
   "metadata": {},
   "outputs": [],
   "source": [
    "print('Dateiname 1.Datei:', first_file)\n",
    "d = pd.to_datetime(first_file, format='%Y.%m.%d.%H.%M.%S')\n",
    "print('Dateiname 1.Datei formatiert:', d)"
   ]
  },
  {
   "cell_type": "markdown",
   "id": "0129481e",
   "metadata": {},
   "source": [
    "#### Lösung\n",
    "Indem Sie die nächste Zeile ausführen, können Sie die Lösung der Aufgabe laden. "
   ]
  },
  {
   "cell_type": "code",
   "execution_count": null,
   "metadata": {},
   "outputs": [],
   "source": [
    "%run Loesung/Loesung_3_2.py"
   ]
  },
  {
   "cell_type": "markdown",
   "id": "3190a246",
   "metadata": {},
   "source": [
    "#### Aufgabe 3.3\n",
    "In welchem Zeitraum wurden die Daten aufgenommen? In welchem zeitlichen Abstand wurden die Daten aufgenommen? Was könnte der Grund dafür sein?"
   ]
  },
  {
   "cell_type": "code",
   "execution_count": null,
   "metadata": {},
   "outputs": [],
   "source": [
    "date = []\n",
    "for dirpath, dirnames, files in os.walk(path):\n",
    "    for file_name in files:\n",
    "        date = np.append(date, file_name)\n",
    "\n",
    "date = pd.to_datetime(date, format='%Y.%m.%d.%H.%M.%S')\n",
    "print(date)\n",
    "date = date.to_numpy()"
   ]
  },
  {
   "cell_type": "markdown",
   "id": "4a390c2c",
   "metadata": {},
   "source": [
    "#### Lösung\n",
    "Indem Sie die nächste Zeile ausführen, können Sie die Lösung der Aufgabe laden. "
   ]
  },
  {
   "cell_type": "code",
   "execution_count": null,
   "metadata": {},
   "outputs": [],
   "source": [
    "%run Loesung/Loesung_3_3.py"
   ]
  },
  {
   "cell_type": "markdown",
   "id": "0046751c",
   "metadata": {},
   "source": [
    "#### Aufgabe 3.4 \n",
    "Betrachten Sie eine der ersten Messungen und eine der letzten Messungen kurz bevor eines der Kugellager kaputt geht. Dargestellt sind zum einen die von den vier Beschleunigungssensoren gemessenen Signale (Zeile 1), sowie <a href=https://de.wikipedia.org/wiki/Spektrogramm>Spektrogramme</a> der gemessenen Signale von Sensor 1 (Zeile 2) und Sensor 2 (Zeile 3). Was fällt Ihnen auf? Welches der Kugellager bricht?"
   ]
  },
  {
   "cell_type": "code",
   "execution_count": null,
   "metadata": {},
   "outputs": [],
   "source": [
    "def make_acceleration_subplot(val,title,pos):\n",
    "    ax = fig.add_subplot(3, 2, pos)\n",
    "    for i in range(ncol):\n",
    "        plt.plot(time, val[:,i], label=str(i+1))\n",
    "    plt.legend(title='Kugellager Nr.', ncol=2, loc='lower left')\n",
    "    plt.xlabel('Zeit in sec')\n",
    "    plt.ylabel('Beschleunigung')\n",
    "    plt.ylim(-2.5,2.5)\n",
    "    plt.xlim(0,1)\n",
    "    plt.title(title)\n",
    "\n",
    "def make_spectrogram_subplot(val,text,pos):\n",
    "    ax = fig.add_subplot(3, 2, pos)\n",
    "    f, t, Sxx = signal.spectrogram(val, fs)\n",
    "    plt.pcolormesh(t, f, Sxx, shading='auto')\n",
    "    plt.yticks(ticks=[0,2000,4000,6000,8000,10000],labels=['0','2','4','6','8','10'])\n",
    "    plt.ylabel('Frequenz in kHz')\n",
    "    plt.xlabel('Zeit in sec')\n",
    "    plt.xlim(0,1)\n",
    "    plt.text(0.75,9500,text, color='black', backgroundcolor='steelblue')\n",
    "\n",
    "good_file = '2004.02.12.15.02.39'\n",
    "bad_file = '2004.02.19.04.22.39'\n",
    "\n",
    "df_good = pd.read_csv(path + good_file, sep='\\t', header=None)\n",
    "df_bad = pd.read_csv(path + bad_file, sep='\\t', header=None)\n",
    "\n",
    "values_good = df_good.values\n",
    "values_bad = df_bad.values\n",
    "\n",
    "fig = plt.figure(figsize=(15,15))  \n",
    "time = np.arange(fs)/fs\n",
    "\n",
    "make_acceleration_subplot(values_good,'Zu Beginn',1)\n",
    "make_acceleration_subplot(values_bad, 'Gegen Ende',2)\n",
    "\n",
    "make_spectrogram_subplot(values_good[:,0],'Kugellager Nr. 1',3)\n",
    "make_spectrogram_subplot(values_good[:,1],'Kugellager Nr. 2',5)\n",
    "make_spectrogram_subplot(values_bad[:,0],'Kugellager Nr. 1',4)\n",
    "make_spectrogram_subplot(values_bad[:,1],'Kugellager Nr. 2',6)"
   ]
  },
  {
   "cell_type": "markdown",
   "id": "d91a82c2",
   "metadata": {},
   "source": [
    "#### Lösung\n",
    "Indem Sie die nächste Zeile ausführen, können Sie die Lösung der Aufgabe laden. "
   ]
  },
  {
   "cell_type": "code",
   "execution_count": null,
   "metadata": {},
   "outputs": [],
   "source": [
    "%run Loesung/Loesung_3_4.py"
   ]
  },
  {
   "cell_type": "markdown",
   "id": "a771c2b4",
   "metadata": {},
   "source": [
    "### Schritt 4: Datenvorverarbeitung"
   ]
  },
  {
   "cell_type": "markdown",
   "id": "39e6e3f8",
   "metadata": {},
   "source": [
    "#### Aufgabe 4.1\n",
    "Welche statistischen Eigenschaften (z.B. Standardabweichung) und welche spektralen Eigenschaften (Frequenzen) könnten für die Erkennung von auftretenden Annomalien relevant sein? Überlegen Sie sich eine Reihe von Merkmalen und bestimmen Sie diese für jede Datei. Orientieren Sie sich am gegebenen Beispiel.      \n",
    "\n",
    "Für die Implementierung sind u.U. die <a href=\"https://pandas.pydata.org/pandas-docs/stable/reference/api/pandas.DataFrame.std.html\">Pandas API reference</a> und die <a href='https://numpy.org/doc/stable/reference/routines.statistics.html'>numpy API reference</a> hilfreich."
   ]
  },
  {
   "cell_type": "code",
   "execution_count": null,
   "metadata": {},
   "outputs": [],
   "source": [
    "# Definition der Merkmale\n",
    "\n",
    "def extract_features(file_name):\n",
    "    df = pd.read_csv(path + file_name, sep='\\t', header=None)\n",
    "    values = df.values\n",
    "    \n",
    "    features = np.array([])\n",
    "    \n",
    "    # Standardabweichung (für jeden der vier Sensoren) -> 4 Merkmale\n",
    "    std = df.std().values\n",
    "    features = np.append(features, std)\n",
    "    \n",
    "    # Durchschnittlicher Frequenzanteil >2kHz (für jeden der vier Sensoren) -> 4 Merkmale\n",
    "    for i in range(0,4):\n",
    "        f, t, Sxx = signal.spectrogram(values[:,i], fs)\n",
    "        idx = np.where(f>2000)[0]\n",
    "        sum_loc = np.sum(Sxx[:,idx[0]:],axis=0)\n",
    "        features = np.append(features, np.mean(sum_loc))\n",
    "    \n",
    "    # Weiteres Merkmal (für jeden der vier Sensoren) hinzufügen\n",
    "    \n",
    "    # Weiteres Merkmal (für jeden der vier Sensoren) hinzufügen\n",
    "    \n",
    "    # Weiteres Merkmal (für jeden der vier Sensoren) hinzufügen \n",
    "    \n",
    "    # Weiteres Merkmal (für jeden der vier Sensoren) hinzufügen\n",
    "    \n",
    "    return features\n",
    "\n",
    "# Extraktion der Merkmale für alle Dateien\n",
    "\n",
    "n_files = 984\n",
    "n_features = 8 # Hier die korrekte Zahl der Merkmale eintragen!!!\n",
    "\n",
    "date = []\n",
    "X = []\n",
    "\n",
    "for dirpath, dirnames, files in os.walk(path):\n",
    "    for file_name in files:\n",
    "        features = extract_features(file_name)\n",
    "        date = np.append(date, file_name)\n",
    "        X = np.append(X, features)\n",
    "        \n",
    "X = X.reshape(n_files,n_features)\n",
    "date = pd.to_datetime(date, format='%Y.%m.%d.%H.%M.%S')\n",
    "date = date.to_numpy()\n",
    "\n",
    "print('Zeitpunkt Datei 1:', date[1])\n",
    "print('Merkmale Datei 1:', X[0])"
   ]
  },
  {
   "cell_type": "markdown",
   "id": "3be9c6a6",
   "metadata": {},
   "source": [
    "#### Tipp\n",
    "Sie können einen Tipp zur Lösung der Aufgabe erhalten, indem Sie die nächste Zeile ausführen."
   ]
  },
  {
   "cell_type": "code",
   "execution_count": null,
   "metadata": {},
   "outputs": [],
   "source": [
    "%run Tipps/Tipp_4_1.py"
   ]
  },
  {
   "cell_type": "markdown",
   "id": "ccf1da24",
   "metadata": {},
   "source": [
    "#### Lösung\n",
    "Indem Sie die nächste Zeile ausführen, können Sie eine mögliche Lösung der Aufgabe laden.    "
   ]
  },
  {
   "cell_type": "code",
   "execution_count": null,
   "id": "e80bd6d7",
   "metadata": {},
   "outputs": [],
   "source": [
    "%load Loesung/Loesung_4_1.py"
   ]
  },
  {
   "cell_type": "markdown",
   "id": "38821a1a",
   "metadata": {},
   "source": [
    "#### Aufgabe 4.2\n",
    "Betrachten Sie die aus den Dateien extrahierten Merkmale. Ab welchem Zeitpunkt sind Auffälligkeit erkennbar?   "
   ]
  },
  {
   "cell_type": "code",
   "execution_count": null,
   "metadata": {},
   "outputs": [],
   "source": [
    "n_plot = int(n_features/4)\n",
    "fig = plt.figure(figsize=(15,n_plot*5))\n",
    "\n",
    "for i in range(n_plot):\n",
    "\n",
    "    ax = fig.add_subplot(n_plot, 1, i+1)\n",
    "    plt.plot(date, X[:,i*4+0], label='1')\n",
    "    plt.plot(date, X[:,i*4+1], label='2')\n",
    "    plt.plot(date, X[:,i*4+2], label='3')\n",
    "    plt.plot(date, X[:,i*4+3], label='4')\n",
    "    plt.legend(title='Kugellager Nr.')\n",
    "    plt.ylabel('Merkmal ' + str(i+1))"
   ]
  },
  {
   "cell_type": "markdown",
   "id": "98308d43",
   "metadata": {},
   "source": [
    "#### Lösung\n",
    "Indem Sie die nächste Zeile ausführen, können Sie die Lösung der Aufgabe laden."
   ]
  },
  {
   "cell_type": "code",
   "execution_count": null,
   "metadata": {},
   "outputs": [],
   "source": [
    "%run Loesung/Loesung_4_2.py"
   ]
  },
  {
   "cell_type": "markdown",
   "metadata": {},
   "source": [
    "### Schritt 5: Sampling"
   ]
  },
  {
   "cell_type": "markdown",
   "metadata": {},
   "source": [
    "#### Aufgabe 5.1\n",
    "Zunächst muss der vorhandene Datensatz in Trainingsdaten und Testdaten aufgeteilt werden. Zum Trainieren der Annomalieerkennung werden nur Daten von den ersten beiden Tagen (12. und 13. Februar 2004) verwendet. Es kann aufgrund der obigen Betrachtung davon ausgegangen werden, dass in dieser Zeitspanne alle Kugellager in Ordnung sind und die Daten dem Normalfall entsprechen. Der Rest der Daten wird als Testdaten für die Annomalieerkennung verwendet. Ergänzen Sie den gegebenen Code. "
   ]
  },
  {
   "cell_type": "code",
   "execution_count": null,
   "metadata": {},
   "outputs": [],
   "source": [
    "# Aufteilung der Daten in Trainings- und Testdatensatz\n",
    "\n",
    "train_idx = np.where(date<np.datetime64('2004-02-14'))[0] # Nummern der Dateien, die zum Trainingsdatensatz gehören   \n",
    "# test_idx =                    \n",
    "\n",
    "X_train = X[train_idx] # Trainingsdaten\n",
    "# X_test = "
   ]
  },
  {
   "cell_type": "markdown",
   "metadata": {},
   "source": [
    "#### Lösung\n",
    "Indem Sie die nächste Zeile ausführen, können Sie die Lösung der Aufgabe laden."
   ]
  },
  {
   "cell_type": "code",
   "execution_count": null,
   "metadata": {},
   "outputs": [],
   "source": [
    "%load Loesung/Loesung_5_1.py"
   ]
  },
  {
   "cell_type": "markdown",
   "metadata": {},
   "source": [
    "### Schritt 6: Umsetzung Anomalieerkennung mit dem K-nächste-Nachbarn Algorithmus"
   ]
  },
  {
   "cell_type": "markdown",
   "metadata": {},
   "source": [
    "#### Aufgabe 6.1: \n",
    "Der K-nächste-Nachbarn Algorithmus wird üblicherweise für Klassifikationsprobleme eingesetzt. Er sucht die K Datenpunkte aus dem Trainingsdatensatz, die einem neuen Test-Datenpunkt am nächsten sind, welche als K-nächste Nachbarn bezeichnet werden. Anhand der Klassen dieser K Datenpunkte wird dann eine Vorhersage für die Klasse des neuen Test-Datenpunkts gemacht. Bei der Anomalieerkennung enthält der Trainingsdatensatz nur eine Klasse \"in Ordnung\". Was wird in diesem Fall für die Testdaten vorhergesagt?"
   ]
  },
  {
   "cell_type": "code",
   "execution_count": null,
   "metadata": {},
   "outputs": [],
   "source": [
    "# Erzeugen von Lables für den Trainingsdatensatz\n",
    "Y_train = np.ones(len(X_train)) # Alle Datenpunkte gehören zu Klasse 1 \"In Ordnung\"\n",
    "\n",
    "# K-nächste-Nachbarn-Klassifizierung \n",
    "K = 5 #Zahl der betrachteten nächsten Nachbarn\n",
    "knn = KNeighborsClassifier(n_neighbors=K)\n",
    "knn.fit(X_train, Y_train)\n",
    "\n",
    "# Vorhersage für die Testdaten \n",
    "print(knn.predict(X_test))"
   ]
  },
  {
   "cell_type": "markdown",
   "metadata": {},
   "source": [
    "#### Lösung\n",
    "Indem Sie die nächste Zeile ausführen, können Sie die Lösung der Aufgabe laden."
   ]
  },
  {
   "cell_type": "code",
   "execution_count": null,
   "metadata": {},
   "outputs": [],
   "source": [
    "%run Loesung/Loesung_6_1.py"
   ]
  },
  {
   "cell_type": "markdown",
   "metadata": {},
   "source": [
    "#### Aufgabe 6.2 \n",
    "Um nun Anomalien zu erkennen, wird die mittlere Distanz zwischen einem Datenpunkt und seinen K nächsten Nachbarn betrachtet. Schauen sie sich die Verteilung der mittleren Distanzen zu den Nachbarn für den Trainingsdatensatz an. Dieser Datensatz beinhaltet nur Messungen von den ersten beiden Tagen. Es kann davon ausgegangen werden, dass zu diesem Zeitpunkt alle Kugellager in Ordnung waren und diese Messungen daher den Zustand in Ordnung repräsentieren.  \n",
    "  \n",
    "Für Messungen die einen nicht in Ordnung Zustand repräsentieren, wird erwartet, dass die mittlere Distanz zu den K nächsten Nachbarn deutlich größer ist. Legen Sie einen Schwellwert für die mittlere Distanz zu den K nächsten Nachbarn fest, ab dem ein Datenpunkt als Anomalie gewertet wird."
   ]
  },
  {
   "cell_type": "code",
   "execution_count": null,
   "metadata": {},
   "outputs": [],
   "source": [
    "# Bestimmung der durchschnittlichen Distanz zu den K nächsten Nachbarn für den Trainingsdatensatz\n",
    "neigh_distance_train, neigh_index_train = knn.kneighbors(X_train)\n",
    "mean_neigh_distance_train = np.mean(neigh_distance_train, axis=1)\n",
    "\n",
    "plt.hist(mean_neigh_distance_train,bins=10)\n",
    "plt.title('Mittl. Distanz zu K nächst. Nachbarn für Trainingsdaten (alle Kugellager i.O.)')\n",
    "plt.xlabel('mittlere Distanz')\n",
    "plt.ylabel('#')\n",
    "\n",
    "# Legen Sie den Schwellwert fest ab dem eine Messung als Annomalie eingestuft wird\n",
    "thres_KNN = np.percentile(mean_neigh_distance_train,50) # zu ändern\n",
    "plt.vlines(thres_KNN,0,80,color='red')\n",
    "plt.show()"
   ]
  },
  {
   "cell_type": "markdown",
   "metadata": {},
   "source": [
    "#### Lösung\n",
    "Indem Sie die nächste Zeile ausführen, können Sie eine Lösung der Aufgabe laden."
   ]
  },
  {
   "cell_type": "code",
   "execution_count": null,
   "metadata": {},
   "outputs": [],
   "source": [
    "%load Loesung/Loesung_6_2.py"
   ]
  },
  {
   "cell_type": "markdown",
   "metadata": {},
   "source": [
    "### Schitt 7: Evaluation Anomalieerkennung mit KNN"
   ]
  },
  {
   "cell_type": "markdown",
   "metadata": {},
   "source": [
    "#### Aufgabe 7.1\n",
    "Testen Sie die Anomalieerkennung mit dem K-nächste-Nachbarn Algorithmus auf dem Testdatensatz und evaluieren Sie das \n",
    "Ergebnis. Eignet sich die Methode, um den Ausfall eines Kugellagers vorherzusagen? Ist der festgelegte Schwellwert für die mittlere Distanz zu den K nächsten Nachbarn sinnvoll?"
   ]
  },
  {
   "cell_type": "code",
   "execution_count": null,
   "metadata": {},
   "outputs": [],
   "source": [
    "# Bestimmung der durchschnittlichen Distanz zu den K nächsten Nachbarn für den Testdatensatz\n",
    "neigh_distance_test, neigh_index_test = knn.kneighbors(X_test)\n",
    "mean_neigh_distance_test = np.mean(neigh_distance_test, axis=1)\n",
    "\n",
    "annomaly = (mean_neigh_distance_test >= thres_KNN)\n",
    "\n",
    "fig = plt.figure(figsize=(14,7))\n",
    "\n",
    "ax = fig.add_subplot(2, 1, 1)\n",
    "plt.plot(date[test_idx], mean_neigh_distance_test, label='Testdaten')\n",
    "plt.plot(date[test_idx], thres_KNN*np.ones(len(mean_neigh_distance_test)), label='Schwellwert')\n",
    "plt.legend()\n",
    "plt.ylabel('Mittl. Distanz zu K nächst. Nachbarn')\n",
    "\n",
    "ax = fig.add_subplot(2, 1, 2)\n",
    "plt.scatter(date[test_idx],annomaly)\n",
    "plt.ylabel('Annomalie? 0=Nein, 1=Ja')\n",
    "plt.show()\n"
   ]
  },
  {
   "cell_type": "markdown",
   "metadata": {},
   "source": [
    "#### Lösung\n",
    "Indem Sie die nächste Zeile ausführen, können Sie eine Lösung der Aufgabe laden."
   ]
  },
  {
   "cell_type": "code",
   "execution_count": null,
   "metadata": {},
   "outputs": [],
   "source": [
    "%run Loesung/Loesung_7_1.py"
   ]
  },
  {
   "cell_type": "markdown",
   "metadata": {},
   "source": [
    "#### Aufgabe 7.2\n",
    "Überlegen Sie sich ein sinnvolles Kriterium wann ein Alarm ausgelöst werden sollte, der auf einen drohenden Ausfall hinweißt.  "
   ]
  },
  {
   "cell_type": "code",
   "execution_count": null,
   "metadata": {},
   "outputs": [],
   "source": [
    "for i in range(len(time[test_idx])):\n",
    "    # Ergänzen Sie hier ein Kriterium, wann ein Alarm ausgelöst werden soll\n",
    "    if ... :\n",
    "        print('Warnung: Drohender Ausfall!')\n",
    "        print('Zeitpunkt:',date[test_idx][i])\n",
    "        break"
   ]
  },
  {
   "cell_type": "markdown",
   "metadata": {},
   "source": [
    "#### Lösung\n",
    "Indem Sie die nächste Zeile ausführen, können Sie eine Lösung der Aufgabe laden."
   ]
  },
  {
   "cell_type": "code",
   "execution_count": null,
   "metadata": {},
   "outputs": [],
   "source": [
    "%load Loesung/Loesung_7_2.py"
   ]
  },
  {
   "cell_type": "markdown",
   "id": "a028cdb0",
   "metadata": {},
   "source": [
    "### Schritt 8: Umsetzung Annomalieerkennung mit Autoencoder"
   ]
  },
  {
   "cell_type": "markdown",
   "id": "111c7850",
   "metadata": {},
   "source": [
    "#### Aufgabe 8.1\n",
    "Ein Autoencoder ist eine spezielle Art von neuronalem Netz mit einer Sanduhr-Struktur und wird darauf trainiert,\n",
    "dass der Output des Netzes möglichst gleich dem Input ist. Als Lossfunktion, die den Fehler - hier den Unterschied zwischen Input und Output - beschreibt, wird der <a href=https://de.wikipedia.org/wiki/Mittlerer_absoluter_Fehler>mittlere absolute Fehler</a> (Englisch: mean absolute error, kurz MAE) verwendet. Ergänzen Sie den folgenden Code für die Berechnung des mittleren absoluten Fehlers.\n"
   ]
  },
  {
   "cell_type": "code",
   "execution_count": null,
   "metadata": {},
   "outputs": [],
   "source": [
    "def mae(x, x_pred):\n",
    "    # Ergänzen Sie die Berechnung des MAE\n",
    "    \n",
    "    return mae"
   ]
  },
  {
   "cell_type": "markdown",
   "id": "d9571ac5",
   "metadata": {},
   "source": [
    "#### Lösung\n",
    "Indem Sie die nächste Zeile ausführen, können Sie die Lösung der Aufgabe laden."
   ]
  },
  {
   "cell_type": "code",
   "execution_count": null,
   "id": "043f3711",
   "metadata": {},
   "outputs": [],
   "source": [
    "%load Loesung/Loesung_8_1.py"
   ]
  },
  {
   "cell_type": "markdown",
   "id": "e5f30e7b",
   "metadata": {},
   "source": [
    "#### Aufgabe 8.2\n",
    "Der Autoencoder soll die folgende Struktur haben:\n",
    "\n",
    "- Eingabeschicht: Anzahl Neuronen = Anzahl Merkmale \n",
    "- 1. verdeckte Schicht: 10 Neuronen\n",
    "- 2. verdeckte Schicht: 5 Neuronen\n",
    "- 3. verdeckte Schicht: 10 Neuronen\n",
    "- Ausgabeschicht: Anzahl Neuronen = Anzahl Merkmale\n",
    "\n",
    "Außer beim Output Layer soll als Aktivierungsfunktion der Tangens hyperbolicus verwendet werden. Ergänzen Sie den folgenden Code um das Model zu erstellen.   "
   ]
  },
  {
   "cell_type": "code",
   "execution_count": null,
   "metadata": {},
   "outputs": [],
   "source": [
    "n_features = len(X_train[0]) # Anzahl Merkmale\n",
    "\n",
    "def get_model():\n",
    "\n",
    "    autoenc = keras.Sequential()\n",
    "    init = keras.initializers.glorot_uniform(seed=1)\n",
    "    # Eingabeschicht und 1. verdeckte Schicht\n",
    "    autoenc.add(keras.layers.Dense(input_dim=n_features, units=10, activation='tanh', kernel_initializer=init))\n",
    "    # Ergänzen Sie die 2. verdeckte Schicht\n",
    "\n",
    "    # Ergänzen Sie die 3. verdeckte Schicht\n",
    "\n",
    "    # Ausgabeschicht\n",
    "    autoenc.add(keras.layers.Dense(units=n_features, activation='linear', kernel_initializer=init))\n",
    "    \n",
    "    return autoenc\n",
    "    \n",
    "autoenc = get_model()\n",
    "print('Zusammenfassung des erstellten Modells: \\n')\n",
    "print(autoenc.summary())"
   ]
  },
  {
   "cell_type": "markdown",
   "id": "3acbdbdd",
   "metadata": {},
   "source": [
    "#### Lösung\n",
    "Indem Sie die nächste Zeile ausführen, können Sie die Lösung der Aufgabe laden."
   ]
  },
  {
   "cell_type": "code",
   "execution_count": null,
   "id": "dc92bf1e",
   "metadata": {},
   "outputs": [],
   "source": [
    "%load Loesung/Loesung_8_2.py"
   ]
  },
  {
   "cell_type": "markdown",
   "id": "18ba008b",
   "metadata": {},
   "source": [
    "#### Aufgabe 8.3 \n",
    "Trainieren Sie das erstellte Modell. Experimentieren Sie mit Lernrate, Batch size und der Zahl der Epochen und finden Sie geeignete Werte. Führen Sie nach Abschluss des Trainings die nächste Zeile aus, um den mittleren absoluten Fehler (MAE) in Abhängigkeit von der Epoche zu plotten. 20% der Trainingsdaten werden separiert und für die Validierung nach jeder Epoche verwendet.   "
   ]
  },
  {
   "cell_type": "code",
   "execution_count": null,
   "metadata": {},
   "outputs": [],
   "source": [
    "lr = 0.05\n",
    "num_epochs = 200\n",
    "batch_size = 20 \n",
    "\n",
    "autoenc = get_model()\n",
    "autoenc.compile(optimizer=tf.compat.v1.train.AdamOptimizer(learning_rate=lr), loss='mean_squared_error', metrics=['mae'])\n",
    "history = autoenc.fit(X_train, X_train, batch_size=batch_size, epochs=num_epochs, validation_split=0.2, verbose=1)\n",
    "print(len(X_train))"
   ]
  },
  {
   "cell_type": "code",
   "execution_count": null,
   "metadata": {},
   "outputs": [],
   "source": [
    "plt.plot(history.history['mae'], label='Trainingsdatensatz')\n",
    "plt.plot(history.history['val_mae'], label='Validierungsdatensatz')\n",
    "plt.xlabel('Epoche')\n",
    "plt.ylabel('Mittlerer absoluter Fehler (MAE)')\n",
    "plt.legend()\n",
    "plt.show()"
   ]
  },
  {
   "cell_type": "markdown",
   "id": "d844748e",
   "metadata": {},
   "source": [
    "#### Tipp\n",
    "Sie können einen Tipp zur Lösung der Aufgabe erhalten, indem Sie die nächste Zeile ausführen."
   ]
  },
  {
   "cell_type": "code",
   "execution_count": null,
   "metadata": {},
   "outputs": [],
   "source": [
    "%run Tipps/Tipp_8_3.py"
   ]
  },
  {
   "cell_type": "markdown",
   "id": "d8b17219",
   "metadata": {},
   "source": [
    "#### Lösung\n",
    "Indem Sie die nächste Zeile ausführen, können Sie eine Lösung der Aufgabe laden."
   ]
  },
  {
   "cell_type": "code",
   "execution_count": null,
   "metadata": {},
   "outputs": [],
   "source": [
    "%run Loesung/Loesung_8_3.py"
   ]
  },
  {
   "cell_type": "markdown",
   "id": "7c9c0aab",
   "metadata": {},
   "source": [
    "#### Aufgabe 8.4\n",
    "Schauen Sie sich die Verteilung der mittleren absoluten Fehler (MAE) für den Trainingsdatensatz an. Dieser Datensatz beinhaltet nur Messungen von den ersten beiden Tagen. Es kann davon ausgegangen werden, dass zu diesem Zeitpunkt alle Kugellager in Ordnung waren und diese Messungen daher den Zustand i.O. repräsentieren. \n",
    "\n",
    "Für Messungen die einen n.i.O. Zustand repräsentieren, wird erwartet, dass der resultierende Fehler (MAE) zwischen Input und Output des mit i.O. Daten trainierten Autoencoders größer ist als für i.O. Zustände. Legen Sie einen Schwellwert für den mittleren absoluten Fehler fest, ab dem eine Messung als n.i.O. bzw. als Annomalie gewertet wird.        "
   ]
  },
  {
   "cell_type": "code",
   "execution_count": null,
   "metadata": {},
   "outputs": [],
   "source": [
    "pred = autoenc.predict(X_train)\n",
    "error = mae(X_train, pred)\n",
    "\n",
    "plt.hist(error,bins=10)\n",
    "plt.title('Fehler für Trainingsdaten (alle Kugellager i.O.)')\n",
    "plt.xlabel('MAE')\n",
    "plt.ylabel('#')\n",
    "\n",
    "# Legen Sie den Schwellwert fest ab dem eine Messung als Annomalie eingestuft wird\n",
    "thres_AE = np.percentile(error,50) # zu ändern\n",
    "plt.vlines(thres_AE,0,50,color='red')\n",
    "plt.show()\n",
    "\n"
   ]
  },
  {
   "cell_type": "markdown",
   "id": "961821a9",
   "metadata": {},
   "source": [
    "#### Lösung\n",
    "Indem Sie die nächste Zeile ausführen, können Sie eine Lösung der Aufgabe laden."
   ]
  },
  {
   "cell_type": "code",
   "execution_count": null,
   "id": "c22efb70",
   "metadata": {},
   "outputs": [],
   "source": [
    "%load Loesung/Loesung_8_4.py"
   ]
  },
  {
   "cell_type": "markdown",
   "id": "f5878ba4",
   "metadata": {},
   "source": [
    "### Schritt 9: Evaluation Anomalieerkennung mit Autoencoder"
   ]
  },
  {
   "cell_type": "markdown",
   "id": "b4723622",
   "metadata": {},
   "source": [
    "#### Aufgabe 9.1\n",
    "Testen Sie den trainierten Autoencoder auf den Testdaten und evaluieren Sie das Ergebnis. Schauen Sie sich dazu die beiden folgenden Plots an. Eignet sich die Methode, um den Ausfall eines Kugellagers vorherzusagen? Ist der festgelegte Schwellwert für den mittleren absoluten Fehler (MAE) sinnvoll?"
   ]
  },
  {
   "cell_type": "code",
   "execution_count": null,
   "metadata": {},
   "outputs": [],
   "source": [
    "pred = autoenc.predict(X_test)\n",
    "error = mae(X_test, pred)\n",
    "annomaly = (error >= thres_AE)\n",
    "\n",
    "fig = plt.figure(figsize=(14,7))\n",
    "\n",
    "ax = fig.add_subplot(2, 1, 1)\n",
    "plt.plot(date[test_idx], error, label='Testdaten')\n",
    "plt.plot(date[test_idx], thres_AE*np.ones(len(error)), label='Schwellwert')\n",
    "plt.legend()\n",
    "#plt.xticks(ticks=[14,15,16,17,18,19],labels=['14. Feb. 2004', '15. Feb. 2004', '16. Feb. 2004', '17. Feb. 2004', '18. Feb. 2004', '19. Feb. 2004'])\n",
    "plt.ylabel('Mittlerer abs. Fehler (MAE)')\n",
    "\n",
    "ax = fig.add_subplot(2, 1, 2)\n",
    "plt.scatter(date[test_idx],annomaly)\n",
    "#plt.xticks(ticks=[14,15,16,17,18,19],labels=['14. Feb. 2004', '15. Feb. 2004', '16. Feb. 2004', '17. Feb. 2004', '18. Feb. 2004', '19. Feb. 2004'])\n",
    "plt.ylabel('Annomalie? 0=Nein, 1=Ja')\n",
    "plt.show()"
   ]
  },
  {
   "cell_type": "markdown",
   "id": "eab6e510",
   "metadata": {},
   "source": [
    "#### Lösung\n",
    "Indem Sie die nächste Zeile ausführen, können Sie eine Lösung der Aufgabe laden."
   ]
  },
  {
   "cell_type": "code",
   "execution_count": null,
   "metadata": {},
   "outputs": [],
   "source": [
    "%run Loesung/Loesung_9_1.py"
   ]
  },
  {
   "cell_type": "markdown",
   "id": "479c7fd5",
   "metadata": {},
   "source": [
    "#### Aufgabe 9.2\n",
    "Überlegen Sie sich ein sinnvolles Kriterium wann ein Alarm ausgelöst werden sollte, der auf einen drohenden Ausfall hinweißt.    "
   ]
  },
  {
   "cell_type": "code",
   "execution_count": null,
   "metadata": {},
   "outputs": [],
   "source": [
    "for i in range(len(time[test_idx])):\n",
    "    # Ergänzen Sie hier ein Kriterium, wann ein Alarm ausgelöst werden soll\n",
    "    if ... :\n",
    "        print('Warnung: Drohender Ausfall!')\n",
    "        print('Zeitpunkt:',date[test_idx][i])\n",
    "        break"
   ]
  },
  {
   "cell_type": "markdown",
   "id": "d777921e",
   "metadata": {},
   "source": [
    "#### Lösung\n",
    "Indem Sie die nächste Zeile ausführen, können Sie eine Lösung der Aufgabe laden."
   ]
  },
  {
   "cell_type": "code",
   "execution_count": null,
   "metadata": {},
   "outputs": [],
   "source": [
    "%load Loesung/Loesung_9_2.py"
   ]
  },
  {
   "cell_type": "markdown",
   "metadata": {},
   "source": [
    "### Schritt 10: Abschließende Beurteilung "
   ]
  },
  {
   "cell_type": "markdown",
   "id": "7d2a2731",
   "metadata": {},
   "source": [
    "#### Aufgabe 10.1\n",
    "\n",
    "Vergleichen Sie die Ergebnisse aus Aufgabe 7.1 und 7.2 mit den Ergebnissen aus Aufgabe 9.1 und 9.2. Anhand welcher Kriterien könnte man die Güte der Anomalieerkennungen beurteilen? Welche der beiden Anomalieerkennungen funktioniert besser? "
   ]
  },
  {
   "cell_type": "markdown",
   "metadata": {},
   "source": [
    "#### Lösung\n",
    "Indem Sie die nächste Zeile ausführen, können Sie eine Lösung der Aufgabe laden."
   ]
  },
  {
   "cell_type": "code",
   "execution_count": null,
   "metadata": {},
   "outputs": [],
   "source": [
    "%run Loesung/Loesung_10_1.py"
   ]
  }
 ],
 "metadata": {
  "kernelspec": {
   "display_name": "Python 3 (ipykernel)",
   "language": "python",
   "name": "python-akipro"
  },
  "language_info": {
   "codemirror_mode": {
    "name": "ipython",
    "version": 3
   },
   "file_extension": ".py",
   "mimetype": "text/x-python",
   "name": "python",
   "nbconvert_exporter": "python",
   "pygments_lexer": "ipython3",
   "version": "3.9.6"
  }
 },
 "nbformat": 4,
 "nbformat_minor": 5
}
